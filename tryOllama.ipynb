{
  "cells": [
    {
      "cell_type": "markdown",
      "metadata": {
        "id": "view-in-github",
        "colab_type": "text"
      },
      "source": [
        "<a href=\"https://colab.research.google.com/github/MatyaAydin/Bachelor/blob/main/tryOllama.ipynb\" target=\"_parent\"><img src=\"https://colab.research.google.com/assets/colab-badge.svg\" alt=\"Open In Colab\"/></a>"
      ]
    },
    {
      "cell_type": "code",
      "source": [
        "USERNAME = \"MatyaAydin\"\n",
        "REPONAME = \"CS-552-preprocessing\""
      ],
      "metadata": {
        "id": "2opGmiRsVoKq"
      },
      "id": "2opGmiRsVoKq",
      "execution_count": 30,
      "outputs": []
    },
    {
      "cell_type": "code",
      "source": [
        "!git clone https://github.com/{USERNAME}/{REPONAME}.git\n",
        "%cd {REPONAME}"
      ],
      "metadata": {
        "colab": {
          "base_uri": "https://localhost:8080/"
        },
        "id": "FyE0GrFKPmwQ",
        "outputId": "74195c52-b390-4f49-9c26-246715627938"
      },
      "id": "FyE0GrFKPmwQ",
      "execution_count": 3,
      "outputs": [
        {
          "output_type": "stream",
          "name": "stdout",
          "text": [
            "Cloning into 'CS-552-preprocessing'...\n",
            "remote: Enumerating objects: 69, done.\u001b[K\n",
            "remote: Counting objects: 100% (69/69), done.\u001b[K\n",
            "remote: Compressing objects: 100% (45/45), done.\u001b[K\n",
            "remote: Total 69 (delta 22), reused 55 (delta 11), pack-reused 0 (from 0)\u001b[K\n",
            "Receiving objects: 100% (69/69), 1.02 MiB | 7.82 MiB/s, done.\n",
            "Resolving deltas: 100% (22/22), done.\n",
            "/content/CS-552-preprocessing\n"
          ]
        }
      ]
    },
    {
      "cell_type": "code",
      "execution_count": 23,
      "id": "3208ed38",
      "metadata": {
        "id": "3208ed38"
      },
      "outputs": [],
      "source": [
        "from transformers import AutoModelForCausalLM, AutoTokenizer\n",
        "from keys.HF_KEY import api_key\n",
        "\n",
        "model_name = \"meta-llama/Llama-3.2-1B\"\n",
        "\n",
        "tokenizer = AutoTokenizer.from_pretrained(model_name, token=api_key)\n",
        "model = AutoModelForCausalLM.from_pretrained(\n",
        "    model_name,\n",
        "    token=api_key\n",
        ")\n"
      ]
    },
    {
      "cell_type": "code",
      "source": [
        "question = \"What does $\\sigma$ represent in statistics?\"\n",
        "prompt = f\"Answer: {question}\"\n",
        "\n",
        "\n",
        "inputs = tokenizer(prompt, return_tensors=\"pt\")\n",
        "outputs = model.generate(**inputs, max_new_tokens=50, do_sample=False, temperature=0.0,)\n",
        "\n",
        "decoded = tokenizer.decode(outputs[0], skip_special_tokens=True)"
      ],
      "metadata": {
        "colab": {
          "base_uri": "https://localhost:8080/"
        },
        "id": "rSHX3y3CQ1FR",
        "outputId": "ceee4ea6-ed9a-4437-c39c-99ca9242c032"
      },
      "id": "rSHX3y3CQ1FR",
      "execution_count": 24,
      "outputs": [
        {
          "output_type": "stream",
          "name": "stderr",
          "text": [
            "/usr/local/lib/python3.11/dist-packages/transformers/generation/configuration_utils.py:636: UserWarning: `do_sample` is set to `False`. However, `top_p` is set to `0.9` -- this flag is only used in sample-based generation modes. You should set `do_sample=True` or unset `top_p`.\n",
            "  warnings.warn(\n",
            "Setting `pad_token_id` to `eos_token_id`:128001 for open-end generation.\n"
          ]
        }
      ]
    },
    {
      "cell_type": "code",
      "source": [
        "decoded"
      ],
      "metadata": {
        "colab": {
          "base_uri": "https://localhost:8080/",
          "height": 53
        },
        "id": "jkYEHwCuTEQ1",
        "outputId": "b031301a-6330-42ec-efcd-5d9ae9b71862"
      },
      "id": "jkYEHwCuTEQ1",
      "execution_count": 25,
      "outputs": [
        {
          "output_type": "execute_result",
          "data": {
            "text/plain": [
              "'Answer: What does $\\\\sigma$ represent in statistics? What does $\\\\sigma$ represent in statistics?\\nAnswer: $\\\\sigma$ represents the standard deviation of the data set. The standard deviation is a measure of how spread out the data is. The standard deviation is a measure of how spread out the data is'"
            ],
            "application/vnd.google.colaboratory.intrinsic+json": {
              "type": "string"
            }
          },
          "metadata": {},
          "execution_count": 25
        }
      ]
    }
  ],
  "metadata": {
    "kernelspec": {
      "display_name": "Python 3",
      "language": "python",
      "name": "python3"
    },
    "language_info": {
      "codemirror_mode": {
        "name": "ipython",
        "version": 3
      },
      "file_extension": ".py",
      "mimetype": "text/x-python",
      "name": "python",
      "nbconvert_exporter": "python",
      "pygments_lexer": "ipython3",
      "version": "3.10.11"
    },
    "colab": {
      "provenance": [],
      "include_colab_link": true
    }
  },
  "nbformat": 4,
  "nbformat_minor": 5
}